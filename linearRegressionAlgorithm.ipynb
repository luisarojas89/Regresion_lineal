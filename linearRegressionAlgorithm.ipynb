{
  "nbformat": 4,
  "nbformat_minor": 0,
  "metadata": {
    "colab": {
      "name": "linearRegressionAlgorithm.ipynb",
      "provenance": [],
      "collapsed_sections": [],
      "authorship_tag": "ABX9TyPzA0yOftwfYRCDUUjXObmJ"
    },
    "kernelspec": {
      "name": "python3",
      "display_name": "Python 3"
    },
    "language_info": {
      "name": "python"
    }
  },
  "cells": [
    {
      "cell_type": "code",
      "metadata": {
        "id": "5PBxaWPcOBt7"
      },
      "source": [
        "import numpy as np\n",
        "import matplotlib.pyplot as plt"
      ],
      "execution_count": 7,
      "outputs": []
    },
    {
      "cell_type": "code",
      "metadata": {
        "id": "VGkd9KeFOXJi"
      },
      "source": [
        "# Función de regresión lineal:\n",
        "\n",
        "def estimate_b0_b1(x,y):\n",
        "  n=np.size(x)\n",
        "\n",
        "  m_x,m_y=np.mean(x),np.mean(y) #Medias de x e y.\n",
        "\n",
        "  # Sumatoria XY y sumatoria XX\n",
        "  sumatoria_xy=np.sum((x-m_x)*(y-m_y))\n",
        "  sumatoria_xx=np.sum(x*(x-m_x))\n",
        "\n",
        "  # Coeficientes de regresión:\n",
        "  b1=sumatoria_xy/sumatoria_xx\n",
        "  b0=m_y-(b1*m_x)\n",
        "\n",
        "  return (b0,b1)\n"
      ],
      "execution_count": 13,
      "outputs": []
    },
    {
      "cell_type": "code",
      "metadata": {
        "id": "kPyqd_hFQkcb"
      },
      "source": [
        "# Función de gráfica:\n",
        "\n",
        "def plot_regression(x,y,b):\n",
        "  plt.scatter(x,y,color=\"red\",marker=\"o\",s=30)\n",
        "\n",
        "  y_pred=b[0]+b[1]*x\n",
        "  plt.plot(x,y_pred,color=\"orange\") #Recta regresión\n",
        "\n",
        "  #Labels\n",
        "  plt.xlabel(\"Variable independiente (X)\") \n",
        "  plt.ylabel(\"Variable dependiente (Y)\")\n",
        "\n",
        "  plt.show()\n"
      ],
      "execution_count": 18,
      "outputs": []
    },
    {
      "cell_type": "code",
      "metadata": {
        "colab": {
          "base_uri": "https://localhost:8080/",
          "height": 296
        },
        "id": "xHX0aUBkSC3n",
        "outputId": "a44e6f93-afa2-43bc-ac97-cb9e6ce442af"
      },
      "source": [
        "# Datos o código main\n",
        "\n",
        "def main():\n",
        "  # Dataset\n",
        "  x=np.array([1,2,3,4,5])\n",
        "  y=np.array([2,3,5,6,5])\n",
        "\n",
        "  # bo, b1\n",
        "  b=estimate_b0_b1(x,y)\n",
        "  print(f\"Los valores B_0 es {b[0]} y B_1 es {b[1]}\")\n",
        "\n",
        "  plot_regression(x,y,b)\n",
        "\n",
        "if __name__==\"__main__\":\n",
        "  main()\n"
      ],
      "execution_count": 19,
      "outputs": [
        {
          "output_type": "stream",
          "text": [
            "Los valores B_0 es 1.5 y B_1 es 0.9\n"
          ],
          "name": "stdout"
        },
        {
          "output_type": "display_data",
          "data": {
            "image/png": "[encoded data removed]",
            "text/plain": [
              "<Figure size 432x288 with 1 Axes>"
            ]
          },
          "metadata": {
            "tags": [],
            "needs_background": "light"
          }
        }
      ]
    }
  ]
}